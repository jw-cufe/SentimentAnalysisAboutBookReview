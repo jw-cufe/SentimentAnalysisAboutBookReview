{
 "cells": [
  {
   "cell_type": "code",
   "execution_count": 1,
   "metadata": {
    "collapsed": true
   },
   "outputs": [],
   "source": [
    "import os\n",
    "os.chdir(\"/Users/Lisiyan/Documents/mystudio/vaderSentiment-master/vaderSentiment\")\n",
    "from vaderSentiment import sentiment as vaderSentiment\n",
    "\n",
    "def fun1(name):\n",
    "    tmp=list(open(name).readlines())\n",
    "    tmp=[s.strip() for s in tmp]\n",
    "    tmp=[s.split(\".\") for s in tmp]\n",
    "    result=str([vaderSentiment(sentence) for sentence in tmp])\n",
    "    file=open(name+\"result\",\"w\")\n",
    "    file.write(result)\n",
    "    file.close()"
   ]
  },
  {
   "cell_type": "code",
   "execution_count": 15,
   "metadata": {
    "collapsed": true
   },
   "outputs": [],
   "source": [
    "time=list(open(\"/Users/Lisiyan/Documents/项目/hillarytrump/time\").readlines())\n",
    "time=[s.strip() for s in time]"
   ]
  },
  {
   "cell_type": "code",
   "execution_count": 16,
   "metadata": {
    "collapsed": true
   },
   "outputs": [],
   "source": [
    "g_time=os.listdir(\"/Users/Lisiyan/Documents/项目/hillarytrump/great_time/\")\n",
    "b_time=os.listdir(\"/Users/Lisiyan/Documents/项目/hillarytrump/blueprint_time/\")"
   ]
  },
  {
   "cell_type": "code",
   "execution_count": 17,
   "metadata": {
    "collapsed": false
   },
   "outputs": [],
   "source": [
    "g_time2=[]\n",
    "b_time2=[]\n",
    "for i in range(len(g_time)):\n",
    "    y=g_time[i]\n",
    "    for j in range(len(time)):\n",
    "        x=time[j]\n",
    "        if x==y:\n",
    "            g_time2.append(y)   \n",
    "for i in range(len(b_time)):\n",
    "    y=b_time[i]\n",
    "    for j in range(len(time)):\n",
    "        x=time[j]\n",
    "        if x==y:\n",
    "            b_time2.append(y)"
   ]
  },
  {
   "cell_type": "code",
   "execution_count": 22,
   "metadata": {
    "collapsed": false
   },
   "outputs": [],
   "source": [
    "file1=[\"/Users/Lisiyan/Documents/项目/hillarytrump/great_time/\"+i for i in g_time2]\n",
    "file2=[\"/Users/Lisiyan/Documents/项目/hillarytrump/blueprint_time/\"+i for i in b_time2]"
   ]
  },
  {
   "cell_type": "code",
   "execution_count": 23,
   "metadata": {
    "collapsed": false,
    "scrolled": true
   },
   "outputs": [
    {
     "data": {
      "text/plain": [
       "[None, None, None, None, None, None, None]"
      ]
     },
     "execution_count": 23,
     "metadata": {},
     "output_type": "execute_result"
    }
   ],
   "source": [
    "[fun1(i) for i in file1]"
   ]
  },
  {
   "cell_type": "code",
   "execution_count": 24,
   "metadata": {
    "collapsed": false,
    "scrolled": true
   },
   "outputs": [
    {
     "data": {
      "text/plain": [
       "[None, None, None, None, None, None, None]"
      ]
     },
     "execution_count": 24,
     "metadata": {},
     "output_type": "execute_result"
    }
   ],
   "source": [
    "[fun1(i) for i in file2]"
   ]
  },
  {
   "cell_type": "code",
   "execution_count": null,
   "metadata": {
    "collapsed": true
   },
   "outputs": [],
   "source": []
  }
 ],
 "metadata": {
  "anaconda-cloud": {},
  "kernelspec": {
   "display_name": "Python [conda root]",
   "language": "python",
   "name": "conda-root-py"
  },
  "language_info": {
   "codemirror_mode": {
    "name": "ipython",
    "version": 2
   },
   "file_extension": ".py",
   "mimetype": "text/x-python",
   "name": "python",
   "nbconvert_exporter": "python",
   "pygments_lexer": "ipython2",
   "version": "2.7.12"
  }
 },
 "nbformat": 4,
 "nbformat_minor": 1
}
